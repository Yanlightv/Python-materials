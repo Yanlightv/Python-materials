{
  "nbformat": 4,
  "nbformat_minor": 0,
  "metadata": {
    "colab": {
      "provenance": []
    },
    "kernelspec": {
      "name": "python3",
      "display_name": "Python 3"
    },
    "language_info": {
      "name": "python"
    }
  },
  "cells": [
    {
      "cell_type": "markdown",
      "source": [
        "# **Множества**"
      ],
      "metadata": {
        "id": "XaE1l1rWaXM1"
      }
    },
    {
      "cell_type": "markdown",
      "source": [
        "Множество (set) - контейнер данных, который не содержит повторяющихся элементов. В Python множества не сортируются автоматически. К элементам множества нельзя обращаться по индексу, но можно перебирать все элементы в цикле."
      ],
      "metadata": {
        "id": "YV9ds2Z7abk5"
      }
    },
    {
      "cell_type": "markdown",
      "source": [
        "\n",
        "# Создание сета\n"
      ],
      "metadata": {
        "id": "2SezNpR7bhfw"
      }
    },
    {
      "cell_type": "markdown",
      "source": [
        "1. Фигурные скобки"
      ],
      "metadata": {
        "id": "AxYBHtLdclHt"
      }
    },
    {
      "cell_type": "code",
      "execution_count": null,
      "metadata": {
        "colab": {
          "base_uri": "https://localhost:8080/"
        },
        "id": "Sz_tvkv_aRqf",
        "outputId": "6285ff0b-0dab-4644-bb37-f10402a98314"
      },
      "outputs": [
        {
          "output_type": "stream",
          "name": "stdout",
          "text": [
            "{'a', 'b', 'c'}\n"
          ]
        }
      ],
      "source": [
        "s = {'a', 'b', 'c'}\n",
        "print(s)"
      ]
    },
    {
      "cell_type": "code",
      "source": [
        "s = {i for i in range(5)}\n",
        "print(s)"
      ],
      "metadata": {
        "colab": {
          "base_uri": "https://localhost:8080/"
        },
        "id": "tl_PTz1ZefF_",
        "outputId": "9582aa58-7fbc-4a68-cf9b-e4a6adbf7fee"
      },
      "execution_count": null,
      "outputs": [
        {
          "output_type": "stream",
          "name": "stdout",
          "text": [
            "{0, 1, 2, 3, 4}\n"
          ]
        }
      ]
    },
    {
      "cell_type": "markdown",
      "source": [
        "2. Метод `set()`"
      ],
      "metadata": {
        "id": "PFsXwzupdQK8"
      }
    },
    {
      "cell_type": "code",
      "source": [
        "s = set(['a', 'b', 'c', 'c', 'c'])\n",
        "print(s)"
      ],
      "metadata": {
        "colab": {
          "base_uri": "https://localhost:8080/"
        },
        "id": "e0oc87JAdJ2W",
        "outputId": "ac819a3f-57f5-47ee-8f10-6a3b4742afce"
      },
      "execution_count": null,
      "outputs": [
        {
          "output_type": "stream",
          "name": "stdout",
          "text": [
            "{'a', 'b', 'c'}\n"
          ]
        }
      ]
    },
    {
      "cell_type": "code",
      "source": [
        "s = set('abracadabra')\n",
        "print(s)"
      ],
      "metadata": {
        "colab": {
          "base_uri": "https://localhost:8080/"
        },
        "id": "-Ju_TfP_djdL",
        "outputId": "33e0a47b-2239-43ed-f35f-23cef6381afb"
      },
      "execution_count": null,
      "outputs": [
        {
          "output_type": "stream",
          "name": "stdout",
          "text": [
            "{'c', 'b', 'd', 'a', 'r'}\n"
          ]
        }
      ]
    },
    {
      "cell_type": "markdown",
      "source": [
        "\n",
        "\n",
        "> Обратите внимание на то, как создается пустой сет!\n",
        "\n"
      ],
      "metadata": {
        "id": "6OOpPcEWeOox"
      }
    },
    {
      "cell_type": "code",
      "source": [
        "s1 = {}\n",
        "print(f's1 is {type(s1)}')\n",
        "\n",
        "s2 = set()\n",
        "print(f's2 is {type(s2)}')\n"
      ],
      "metadata": {
        "colab": {
          "base_uri": "https://localhost:8080/"
        },
        "id": "DOoYcroydpkr",
        "outputId": "a654d780-0054-4334-e777-5dcbd016a569"
      },
      "execution_count": null,
      "outputs": [
        {
          "output_type": "stream",
          "name": "stdout",
          "text": [
            "s1 is <class 'dict'>\n",
            "s2 is <class 'set'>\n"
          ]
        }
      ]
    },
    {
      "cell_type": "markdown",
      "source": [
        "# Добавление элементов\n",
        "Есть два метода: `add()` для добавления одного элемента и `update()` для добавления сразу нескольких.\n",
        "\n"
      ],
      "metadata": {
        "id": "L6uGOqu6fgXx"
      }
    },
    {
      "cell_type": "code",
      "source": [
        "s = {'red', 'orange', 'yellow'}\n",
        "s.add('green')\n",
        "print(s)\n",
        "\n",
        "s.update(['blue', 'purple'])\n",
        "print(s)"
      ],
      "metadata": {
        "colab": {
          "base_uri": "https://localhost:8080/"
        },
        "id": "iYC3ubTCe03a",
        "outputId": "fe72325e-6d2b-48e4-95fe-01da7fa4ec7e"
      },
      "execution_count": null,
      "outputs": [
        {
          "output_type": "stream",
          "name": "stdout",
          "text": [
            "{'red', 'orange', 'green', 'yellow'}\n",
            "{'red', 'yellow', 'orange', 'purple', 'green', 'blue'}\n"
          ]
        }
      ]
    },
    {
      "cell_type": "markdown",
      "source": [
        "# Удаление элементов\n",
        "Есть два метода: `discard()` и` remove()`. Посмотрим, чем они отличаются:"
      ],
      "metadata": {
        "id": "o6iwuryQgnG1"
      }
    },
    {
      "cell_type": "code",
      "source": [
        "s = {'red', 'yellow', 'orange', 'purple', 'green', 'blue'}\n",
        "\n",
        "s.discard('red')\n",
        "print(s)\n",
        "\n",
        "s.discard('pink')\n",
        "print(s)"
      ],
      "metadata": {
        "colab": {
          "base_uri": "https://localhost:8080/"
        },
        "id": "TEYo_d8EgjyS",
        "outputId": "41975c56-2bba-47a0-a03b-445221fec242"
      },
      "execution_count": null,
      "outputs": [
        {
          "output_type": "stream",
          "name": "stdout",
          "text": [
            "{'yellow', 'orange', 'purple', 'green', 'blue'}\n",
            "{'yellow', 'orange', 'purple', 'green', 'blue'}\n"
          ]
        }
      ]
    },
    {
      "cell_type": "code",
      "source": [
        "s = {'red', 'yellow', 'orange', 'purple', 'green', 'blue'}\n",
        "\n",
        "s.remove('red')\n",
        "print(s)\n",
        "\n",
        "s.remove('pink')\n",
        "print(s)"
      ],
      "metadata": {
        "colab": {
          "base_uri": "https://localhost:8080/",
          "height": 211
        },
        "id": "9Ym4P947hQL8",
        "outputId": "9c2c5f3b-b88c-4278-f096-c0333b1dae16"
      },
      "execution_count": null,
      "outputs": [
        {
          "output_type": "stream",
          "name": "stdout",
          "text": [
            "{'yellow', 'orange', 'purple', 'green', 'blue'}\n"
          ]
        },
        {
          "output_type": "error",
          "ename": "KeyError",
          "evalue": "'pink'",
          "traceback": [
            "\u001b[0;31m---------------------------------------------------------------------------\u001b[0m",
            "\u001b[0;31mKeyError\u001b[0m                                  Traceback (most recent call last)",
            "\u001b[0;32m<ipython-input-14-b17579777bba>\u001b[0m in \u001b[0;36m<cell line: 6>\u001b[0;34m()\u001b[0m\n\u001b[1;32m      4\u001b[0m \u001b[0mprint\u001b[0m\u001b[0;34m(\u001b[0m\u001b[0ms\u001b[0m\u001b[0;34m)\u001b[0m\u001b[0;34m\u001b[0m\u001b[0;34m\u001b[0m\u001b[0m\n\u001b[1;32m      5\u001b[0m \u001b[0;34m\u001b[0m\u001b[0m\n\u001b[0;32m----> 6\u001b[0;31m \u001b[0ms\u001b[0m\u001b[0;34m.\u001b[0m\u001b[0mremove\u001b[0m\u001b[0;34m(\u001b[0m\u001b[0;34m'pink'\u001b[0m\u001b[0;34m)\u001b[0m\u001b[0;34m\u001b[0m\u001b[0;34m\u001b[0m\u001b[0m\n\u001b[0m\u001b[1;32m      7\u001b[0m \u001b[0mprint\u001b[0m\u001b[0;34m(\u001b[0m\u001b[0ms\u001b[0m\u001b[0;34m)\u001b[0m\u001b[0;34m\u001b[0m\u001b[0;34m\u001b[0m\u001b[0m\n",
            "\u001b[0;31mKeyError\u001b[0m: 'pink'"
          ]
        }
      ]
    },
    {
      "cell_type": "markdown",
      "source": [
        "Как можем заметить, discard защищает нас от удаления несуществующих элементов, а вот remove выдает ошибку, если попытаться удалить то, чего нет."
      ],
      "metadata": {
        "id": "v7wU_cRmhej9"
      }
    },
    {
      "cell_type": "markdown",
      "source": [
        "Метод `pop()` удалит случайный элемент, это связано с тем, что множество неупорядочено."
      ],
      "metadata": {
        "id": "4nsSrQi1hwsW"
      }
    },
    {
      "cell_type": "markdown",
      "source": [
        "Метод `clear()` очистит множество."
      ],
      "metadata": {
        "id": "rSty6pQPiJRM"
      }
    },
    {
      "cell_type": "markdown",
      "source": [
        "# Операции с множествами"
      ],
      "metadata": {
        "id": "zorWHVXuiTQx"
      }
    },
    {
      "cell_type": "markdown",
      "source": [
        "1. Подмножества\n",
        "\n",
        "\n"
      ],
      "metadata": {
        "id": "9BbRR57xisIr"
      }
    },
    {
      "cell_type": "code",
      "source": [
        "set1 = {1, 2}\n",
        "set2 = {1, 2}\n",
        "\n",
        "set1 == set2 # все элементы set1 совпадают с элементами set2"
      ],
      "metadata": {
        "colab": {
          "base_uri": "https://localhost:8080/"
        },
        "id": "8_D1eNMJirvZ",
        "outputId": "620e53b8-e369-4da2-c965-e1de314fee8d"
      },
      "execution_count": null,
      "outputs": [
        {
          "output_type": "execute_result",
          "data": {
            "text/plain": [
              "True"
            ]
          },
          "metadata": {},
          "execution_count": 16
        }
      ]
    },
    {
      "cell_type": "code",
      "source": [
        "set1 = {1, 2}\n",
        "set2 = {3, 4}\n",
        "\n",
        "set1.isdisjoint(set2) # set1 и set2 не имеют ни одного общего элемента"
      ],
      "metadata": {
        "colab": {
          "base_uri": "https://localhost:8080/"
        },
        "id": "i32C5QmQpCqk",
        "outputId": "680bf9d2-49c3-4f97-a2b3-cc0e7353b861"
      },
      "execution_count": null,
      "outputs": [
        {
          "output_type": "execute_result",
          "data": {
            "text/plain": [
              "True"
            ]
          },
          "metadata": {},
          "execution_count": 17
        }
      ]
    },
    {
      "cell_type": "code",
      "source": [
        "set1 = {1, 2}\n",
        "set2 = {1, 2, 3}\n",
        "\n",
        "print(set1.issubset(set2)) # все элементы set1 содержатся в set2\n",
        "print(set1 <= set2)        # другой вариант записи"
      ],
      "metadata": {
        "colab": {
          "base_uri": "https://localhost:8080/"
        },
        "id": "-fJ9OU32pPbS",
        "outputId": "d96fd708-8a1e-4a96-cb9d-66d553d68426"
      },
      "execution_count": null,
      "outputs": [
        {
          "output_type": "stream",
          "name": "stdout",
          "text": [
            "True\n",
            "True\n"
          ]
        }
      ]
    },
    {
      "cell_type": "code",
      "source": [
        "set1 = {1, 2, 3}\n",
        "set2 = {1, 2}\n",
        "\n",
        "print(set1.issuperset(set2)) # в set1 содержатся все элементы set2\n",
        "print(set1 >= set2)          # другой вариант записи"
      ],
      "metadata": {
        "colab": {
          "base_uri": "https://localhost:8080/"
        },
        "id": "BgEMOYQUprhH",
        "outputId": "15a188b8-955b-4701-b445-237b8d768f4c"
      },
      "execution_count": null,
      "outputs": [
        {
          "output_type": "stream",
          "name": "stdout",
          "text": [
            "True\n",
            "True\n"
          ]
        }
      ]
    },
    {
      "cell_type": "markdown",
      "source": [
        "2. Объединение множеств\n"
      ],
      "metadata": {
        "id": "FJIu1CKVjKDJ"
      }
    },
    {
      "cell_type": "code",
      "source": [
        "set1 = {1, 2, 3}\n",
        "set2 = {3, 4}\n",
        "\n",
        "set1.union(set2)"
      ],
      "metadata": {
        "colab": {
          "base_uri": "https://localhost:8080/"
        },
        "id": "qi2umiWhhVZT",
        "outputId": "3be84e16-ce39-4395-c262-20164baaa36a"
      },
      "execution_count": null,
      "outputs": [
        {
          "output_type": "execute_result",
          "data": {
            "text/plain": [
              "{1, 2, 3, 4}"
            ]
          },
          "metadata": {},
          "execution_count": 26
        }
      ]
    },
    {
      "cell_type": "code",
      "source": [
        "set1 | set2"
      ],
      "metadata": {
        "colab": {
          "base_uri": "https://localhost:8080/"
        },
        "id": "78pdGx0ZrKw3",
        "outputId": "47ae1ec2-2c09-40de-8cc4-1c5724d86f0c"
      },
      "execution_count": null,
      "outputs": [
        {
          "output_type": "execute_result",
          "data": {
            "text/plain": [
              "{1, 2, 3, 4}"
            ]
          },
          "metadata": {},
          "execution_count": 27
        }
      ]
    },
    {
      "cell_type": "code",
      "source": [
        "set1 |= set2 # равносильно set1.update(set2)\n",
        "print(set1)"
      ],
      "metadata": {
        "colab": {
          "base_uri": "https://localhost:8080/"
        },
        "id": "iKgchGPDrNeR",
        "outputId": "c101546d-694c-4419-b38c-34f5df121311"
      },
      "execution_count": null,
      "outputs": [
        {
          "output_type": "stream",
          "name": "stdout",
          "text": [
            "{1, 2, 3, 4}\n"
          ]
        }
      ]
    },
    {
      "cell_type": "markdown",
      "source": [
        "3. Пересечение множеств"
      ],
      "metadata": {
        "id": "F41cZlZqsi0t"
      }
    },
    {
      "cell_type": "code",
      "source": [
        "set1 = {1, 2, 3}\n",
        "set2 = {2, 3, 4}\n",
        "\n",
        "set1.intersection(set2)"
      ],
      "metadata": {
        "colab": {
          "base_uri": "https://localhost:8080/"
        },
        "id": "0dfRH4XArU6d",
        "outputId": "0349b4a5-6b5d-4578-fdec-c5380770059d"
      },
      "execution_count": null,
      "outputs": [
        {
          "output_type": "execute_result",
          "data": {
            "text/plain": [
              "{2, 3}"
            ]
          },
          "metadata": {},
          "execution_count": 31
        }
      ]
    },
    {
      "cell_type": "code",
      "source": [
        "set1 & set2"
      ],
      "metadata": {
        "colab": {
          "base_uri": "https://localhost:8080/"
        },
        "id": "9-7JV-zQsvQv",
        "outputId": "c9aa6646-bc2c-4096-cff5-446de1cc7dcb"
      },
      "execution_count": null,
      "outputs": [
        {
          "output_type": "execute_result",
          "data": {
            "text/plain": [
              "{2, 3}"
            ]
          },
          "metadata": {},
          "execution_count": 32
        }
      ]
    },
    {
      "cell_type": "code",
      "source": [
        "set1 &= set2 # равносильно set1.intersection_update(set2)\n",
        "print(set1)"
      ],
      "metadata": {
        "colab": {
          "base_uri": "https://localhost:8080/"
        },
        "id": "m3f9DyHssxjL",
        "outputId": "9deeae26-55ba-48ff-9fc8-79f15d406b14"
      },
      "execution_count": null,
      "outputs": [
        {
          "output_type": "stream",
          "name": "stdout",
          "text": [
            "{2, 3}\n"
          ]
        }
      ]
    },
    {
      "cell_type": "markdown",
      "source": [
        "4. Вычитание множеств"
      ],
      "metadata": {
        "id": "Utr06UQRtEr7"
      }
    },
    {
      "cell_type": "code",
      "source": [
        "set1 = {1, 2, 3}\n",
        "set2 = {3, 4}\n",
        "\n",
        "set1.difference(set2)"
      ],
      "metadata": {
        "colab": {
          "base_uri": "https://localhost:8080/"
        },
        "id": "TZDhhsa7s26W",
        "outputId": "a3cd987a-c763-4e79-cce6-ff0aafba7daf"
      },
      "execution_count": null,
      "outputs": [
        {
          "output_type": "execute_result",
          "data": {
            "text/plain": [
              "{1, 2}"
            ]
          },
          "metadata": {},
          "execution_count": 37
        }
      ]
    },
    {
      "cell_type": "code",
      "source": [
        "set1 - set2"
      ],
      "metadata": {
        "colab": {
          "base_uri": "https://localhost:8080/"
        },
        "id": "GhCLX8rFtQ8I",
        "outputId": "910d2754-642c-40fa-d162-af3b24238a2f"
      },
      "execution_count": null,
      "outputs": [
        {
          "output_type": "execute_result",
          "data": {
            "text/plain": [
              "{1, 2}"
            ]
          },
          "metadata": {},
          "execution_count": 38
        }
      ]
    },
    {
      "cell_type": "code",
      "source": [
        "set1 -= set2 # равносильно set1.difference_update(set2)\n",
        "print(set1)"
      ],
      "metadata": {
        "colab": {
          "base_uri": "https://localhost:8080/"
        },
        "id": "BFJQtPF6tcGf",
        "outputId": "85bb58aa-aca2-49c0-f3b1-80e14060509b"
      },
      "execution_count": null,
      "outputs": [
        {
          "output_type": "stream",
          "name": "stdout",
          "text": [
            "{1, 2}\n"
          ]
        }
      ]
    },
    {
      "cell_type": "markdown",
      "source": [
        "5. Симметричная разность"
      ],
      "metadata": {
        "id": "Gl2AHhtBt0NL"
      }
    },
    {
      "cell_type": "code",
      "source": [
        "set1 = {1, 2, 3}\n",
        "set2 = {3, 4}\n",
        "\n",
        "set1.symmetric_difference(set2)"
      ],
      "metadata": {
        "colab": {
          "base_uri": "https://localhost:8080/"
        },
        "id": "eVnafsrDtonJ",
        "outputId": "e0f118e5-db6f-4e22-8813-85203eb00f9a"
      },
      "execution_count": null,
      "outputs": [
        {
          "output_type": "execute_result",
          "data": {
            "text/plain": [
              "{1, 2, 4}"
            ]
          },
          "metadata": {},
          "execution_count": 44
        }
      ]
    },
    {
      "cell_type": "code",
      "source": [
        "set1 ^ set2"
      ],
      "metadata": {
        "colab": {
          "base_uri": "https://localhost:8080/"
        },
        "id": "xL3asmWDt6Fs",
        "outputId": "3134c716-0b94-4fc8-f781-5c46f649fb52"
      },
      "execution_count": null,
      "outputs": [
        {
          "output_type": "execute_result",
          "data": {
            "text/plain": [
              "{1, 2, 4}"
            ]
          },
          "metadata": {},
          "execution_count": 45
        }
      ]
    },
    {
      "cell_type": "code",
      "source": [
        "set1 ^= set2 # равносильно set1.symmetric_difference_update(set2)\n",
        "print(set1)"
      ],
      "metadata": {
        "colab": {
          "base_uri": "https://localhost:8080/"
        },
        "id": "zSX7Anztt8Yl",
        "outputId": "cbe6d3b0-2229-4047-8d93-1b5ebdcd6287"
      },
      "execution_count": null,
      "outputs": [
        {
          "output_type": "stream",
          "name": "stdout",
          "text": [
            "{1, 2, 4}\n"
          ]
        }
      ]
    },
    {
      "cell_type": "markdown",
      "source": [
        "# Frozenset - кто он такой?\n",
        "Единстенное, чем frosenset отличается от обычного set, это тем, что он неизменяемый, то есть мы не можем добавлять и удалять элементы"
      ],
      "metadata": {
        "id": "VOPk9jsWuPWF"
      }
    },
    {
      "cell_type": "markdown",
      "source": [
        "# Задачи"
      ],
      "metadata": {
        "id": "LxjTy4WabJVY"
      }
    },
    {
      "cell_type": "markdown",
      "source": [
        "1. Даны два слова, написанные строчными буквами. Определить минимальный алфавит для их написания."
      ],
      "metadata": {
        "id": "zz4lOC3JbNTB"
      }
    },
    {
      "cell_type": "code",
      "source": [
        "# Your code."
      ],
      "metadata": {
        "id": "OMmgWH4XbLeZ"
      },
      "execution_count": null,
      "outputs": []
    },
    {
      "cell_type": "markdown",
      "source": [
        "2. Дан массив слов. Вывести слова, в которых больше 2 гласных букв. Считайте, что гласные - это 'aeiou', а все слова написаны строчными буквами."
      ],
      "metadata": {
        "id": "OTPaEToxd8uC"
      }
    },
    {
      "cell_type": "code",
      "source": [
        "# Your code."
      ],
      "metadata": {
        "id": "p_ZZcylS_tEr"
      },
      "execution_count": null,
      "outputs": []
    },
    {
      "cell_type": "markdown",
      "source": [
        "3. Дан список студентов, которые попали на пересдачу по математическому анализу, список студентов, которые попали на пересдачу по алгебре, и список студентов, которые попали на пересдачу по алгоритмам. Выведите список студентов, у которых меньше 2 пересдач."
      ],
      "metadata": {
        "id": "_EdFdyvVAWvd"
      }
    },
    {
      "cell_type": "code",
      "source": [
        "# Your code."
      ],
      "metadata": {
        "id": "AKTmQ-seBhaZ"
      },
      "execution_count": null,
      "outputs": []
    }
  ]
}