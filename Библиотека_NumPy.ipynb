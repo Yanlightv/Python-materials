{
  "nbformat": 4,
  "nbformat_minor": 0,
  "metadata": {
    "colab": {
      "provenance": []
    },
    "kernelspec": {
      "name": "python3",
      "display_name": "Python 3"
    },
    "language_info": {
      "name": "python"
    }
  },
  "cells": [
    {
      "cell_type": "markdown",
      "source": [
        "# **Библиотека NumPy**\n",
        "Эта библиотека используется для работы с многомерными массивами."
      ],
      "metadata": {
        "id": "DaZyFPu2vJF5"
      }
    },
    {
      "cell_type": "markdown",
      "source": [
        "Начнем с того, что установим NumPy."
      ],
      "metadata": {
        "id": "J1UHa1IZws60"
      }
    },
    {
      "cell_type": "code",
      "execution_count": null,
      "metadata": {
        "colab": {
          "base_uri": "https://localhost:8080/"
        },
        "id": "ud8UwchwvHoU",
        "outputId": "85e8cbcf-fccd-40ba-82de-7433465913f2"
      },
      "outputs": [
        {
          "output_type": "stream",
          "name": "stdout",
          "text": [
            "Requirement already satisfied: numpy in /usr/local/lib/python3.10/dist-packages (1.25.2)\n"
          ]
        }
      ],
      "source": [
        "!pip install numpy"
      ]
    },
    {
      "cell_type": "markdown",
      "source": [
        "Теперь подключим ее и начнем разбираться с основными возможностями."
      ],
      "metadata": {
        "id": "Bckuhs7lw3Mh"
      }
    },
    {
      "cell_type": "code",
      "source": [
        "import numpy as np"
      ],
      "metadata": {
        "id": "AO4KZlvhwzro"
      },
      "execution_count": null,
      "outputs": []
    },
    {
      "cell_type": "markdown",
      "source": [
        "Главным объектом numpy является многомерный массив np.ndarray, он намного быстрее обычного list."
      ],
      "metadata": {
        "id": "b7HGlJbZxUQT"
      }
    },
    {
      "cell_type": "markdown",
      "source": [
        "# Создание массивов"
      ],
      "metadata": {
        "id": "2Ae9M_tnxfCX"
      }
    },
    {
      "cell_type": "code",
      "source": [
        "a1 = np.array([1, 2, 3]) # одномерный массив\n",
        "\n",
        "a2 = np.array([[1, 2, 3],\n",
        "             [4, 5, 6]]) # двумерный массив\n",
        "\n",
        "a3 = np.array([[[1, 2], [3, 4]],\n",
        "              [[5, 6], [7, 8]]]) # трёхмерный массив\n",
        "\n",
        "# по такой схеме можно создать сколь угодно многомерный массив"
      ],
      "metadata": {
        "id": "wXk6P4BBxBr2"
      },
      "execution_count": null,
      "outputs": []
    },
    {
      "cell_type": "code",
      "source": [
        "np.array([1, 2, 3], dtype=float) # можем задавать тип элементов, по умолчанию стоит int32"
      ],
      "metadata": {
        "colab": {
          "base_uri": "https://localhost:8080/"
        },
        "id": "h-0C-uynuZRe",
        "outputId": "33f665fa-5787-4978-8d77-02b20ff01f65"
      },
      "execution_count": null,
      "outputs": [
        {
          "output_type": "execute_result",
          "data": {
            "text/plain": [
              "array([1., 2., 3.])"
            ]
          },
          "metadata": {},
          "execution_count": 5
        }
      ]
    },
    {
      "cell_type": "markdown",
      "source": [
        "size, shape, ndim - в чем разница?"
      ],
      "metadata": {
        "id": "sUJB3rHGuEa-"
      }
    },
    {
      "cell_type": "code",
      "source": [
        "print(a3.ndim)  # так можем узнать количество измерений\n",
        "\n",
        "print(a2.size)  # так получим количество элементов всего\n",
        "print(a2.shape) # так можем узнать размеры массива в каждом измерении\n",
        "\n",
        "print(a1.shape) # обратите внимание как выглядит размер вектора"
      ],
      "metadata": {
        "colab": {
          "base_uri": "https://localhost:8080/"
        },
        "id": "1eCWANtM2ATF",
        "outputId": "661f8cd5-b76e-40b7-ace3-8af10aa1b1af"
      },
      "execution_count": null,
      "outputs": [
        {
          "output_type": "stream",
          "name": "stdout",
          "text": [
            "3\n",
            "6\n",
            "(2, 3)\n",
            "(3,)\n"
          ]
        }
      ]
    },
    {
      "cell_type": "markdown",
      "source": [
        "Изменение размерности через reshape. Обратите внимание, что новая размерность должна соответствовать количеству элементов\n",
        "\n"
      ],
      "metadata": {
        "id": "e5C_vmpzuNAk"
      }
    },
    {
      "cell_type": "code",
      "source": [
        "a = np.array([[1, 2, 3],\n",
        "             [4, 5, 6]])\n",
        "print(np.reshape(a, (1, 6)))\n",
        "print(np.reshape(a, (3, 2)))"
      ],
      "metadata": {
        "colab": {
          "base_uri": "https://localhost:8080/"
        },
        "id": "dFNG2N8auRwu",
        "outputId": "bdba54e9-ed8f-471d-8a92-9c1aebd74b76"
      },
      "execution_count": null,
      "outputs": [
        {
          "output_type": "stream",
          "name": "stdout",
          "text": [
            "[[1 2 3 4 5 6]]\n",
            "[[1 2]\n",
            " [3 4]\n",
            " [5 6]]\n"
          ]
        }
      ]
    },
    {
      "cell_type": "markdown",
      "source": [
        "Если нам нужно привести к одномерному массиву, то можно использовать `flatten()` или `ravel()`"
      ],
      "metadata": {
        "id": "8MClgB1iBKPL"
      }
    },
    {
      "cell_type": "code",
      "source": [
        "a.flatten()"
      ],
      "metadata": {
        "colab": {
          "base_uri": "https://localhost:8080/"
        },
        "id": "w6XNRldIA1jz",
        "outputId": "73c2ad72-6457-4e9c-df1f-0a5c35033139"
      },
      "execution_count": null,
      "outputs": [
        {
          "output_type": "execute_result",
          "data": {
            "text/plain": [
              "array([1, 2, 3, 4, 5, 6])"
            ]
          },
          "metadata": {},
          "execution_count": 44
        }
      ]
    },
    {
      "cell_type": "code",
      "source": [
        "a.ravel()"
      ],
      "metadata": {
        "colab": {
          "base_uri": "https://localhost:8080/"
        },
        "id": "40rjmWTPBA9A",
        "outputId": "9ad5b12b-291c-40be-fac2-905efa7fe3d7"
      },
      "execution_count": null,
      "outputs": [
        {
          "output_type": "execute_result",
          "data": {
            "text/plain": [
              "array([1, 2, 3, 4, 5, 6])"
            ]
          },
          "metadata": {},
          "execution_count": 45
        }
      ]
    },
    {
      "cell_type": "markdown",
      "source": [
        "В чем их различие? `flatten()` возвращает копию, в то время как `ravel()` создает ссылку, поэтому если в исходном массиве поменяется элемент, то и в `ravel` он изменится"
      ],
      "metadata": {
        "id": "QrmX2YW3Beqt"
      }
    },
    {
      "cell_type": "markdown",
      "source": [
        "\n",
        "\n",
        "---\n",
        "\n",
        "\n",
        "Еще немного о создании массивов"
      ],
      "metadata": {
        "id": "uX0GnFm4uSPF"
      }
    },
    {
      "cell_type": "code",
      "source": [
        "np.zeros((2, 3)) # массив размера 2х3, заполненный нулями"
      ],
      "metadata": {
        "colab": {
          "base_uri": "https://localhost:8080/"
        },
        "id": "ht7Te9as0mhg",
        "outputId": "491ac87f-c769-40e1-fd76-1814711e8b61"
      },
      "execution_count": null,
      "outputs": [
        {
          "output_type": "execute_result",
          "data": {
            "text/plain": [
              "array([[0., 0., 0.],\n",
              "       [0., 0., 0.]])"
            ]
          },
          "metadata": {},
          "execution_count": 9
        }
      ]
    },
    {
      "cell_type": "code",
      "source": [
        "np.ones((3, 2)) # массив размера 3х2, заполненный единицами"
      ],
      "metadata": {
        "colab": {
          "base_uri": "https://localhost:8080/"
        },
        "id": "L7W64gP-1AmW",
        "outputId": "514fb054-0644-4f6a-8d9d-ec4fe8d35f3d"
      },
      "execution_count": null,
      "outputs": [
        {
          "output_type": "execute_result",
          "data": {
            "text/plain": [
              "array([[1., 1.],\n",
              "       [1., 1.],\n",
              "       [1., 1.]])"
            ]
          },
          "metadata": {},
          "execution_count": 10
        }
      ]
    },
    {
      "cell_type": "code",
      "source": [
        "np.eye(4) # единичная матрица размера 4х4"
      ],
      "metadata": {
        "colab": {
          "base_uri": "https://localhost:8080/"
        },
        "id": "OY_uq22P1OBs",
        "outputId": "d5202a03-d9ca-41ba-a8ce-91d1853a0300"
      },
      "execution_count": null,
      "outputs": [
        {
          "output_type": "execute_result",
          "data": {
            "text/plain": [
              "array([[1., 0., 0., 0.],\n",
              "       [0., 1., 0., 0.],\n",
              "       [0., 0., 1., 0.],\n",
              "       [0., 0., 0., 1.]])"
            ]
          },
          "metadata": {},
          "execution_count": 11
        }
      ]
    },
    {
      "cell_type": "code",
      "source": [
        "np.full((3, 2), 4) # матрица размера 3х2, заполненная 4"
      ],
      "metadata": {
        "colab": {
          "base_uri": "https://localhost:8080/"
        },
        "id": "1ycNuslkm8Jy",
        "outputId": "f49aaa0a-2151-4700-ec0f-766bac6302b8"
      },
      "execution_count": null,
      "outputs": [
        {
          "output_type": "execute_result",
          "data": {
            "text/plain": [
              "array([[4, 4],\n",
              "       [4, 4],\n",
              "       [4, 4]])"
            ]
          },
          "metadata": {},
          "execution_count": 12
        }
      ]
    },
    {
      "cell_type": "code",
      "source": [
        "np.linspace(1, 5, 9) # массив содержащий 9 чисел от 1 до 5 с равными промежутками"
      ],
      "metadata": {
        "colab": {
          "base_uri": "https://localhost:8080/"
        },
        "id": "igi_BwLC1n-M",
        "outputId": "3cf7c9d0-9fa5-4cee-cb4f-13d34ab362ed"
      },
      "execution_count": null,
      "outputs": [
        {
          "output_type": "execute_result",
          "data": {
            "text/plain": [
              "array([1. , 1.5, 2. , 2.5, 3. , 3.5, 4. , 4.5, 5. ])"
            ]
          },
          "metadata": {},
          "execution_count": 13
        }
      ]
    },
    {
      "cell_type": "markdown",
      "source": [
        "\n",
        "\n",
        "---\n",
        "\n",
        "\n",
        "Если хотим заполнить массив случайными значениями, есть такие варианты:\n",
        "\n",
        "\n",
        "*   `np.random.rand(n, m)` - массив случайных чисел от 0.0 до 1.0 размера nxm\n",
        "*   `np.random.random(n)` - массив случайных чисел от 0.0 до 1.0 длины n\n",
        "*   `np.random.randint(a, b, (m, n))` - массив случайных целых чисел от a до b размера mxn\n",
        "\n",
        "\n",
        "\n",
        "\n"
      ],
      "metadata": {
        "id": "Nfw-SwYerxun"
      }
    },
    {
      "cell_type": "markdown",
      "source": [
        "---\n",
        "Можно обращаться отдельно к элементам массива, строкам, столбцам, брать\n",
        "\"подмассив\""
      ],
      "metadata": {
        "id": "3_-9CX17lO1d"
      }
    },
    {
      "cell_type": "code",
      "source": [
        "a = np.array([[1, 2, 3],\n",
        "              [4, 5, 6],\n",
        "              [7, 8, 9]])\n",
        "print(a[0, 0])\n",
        "print(a[:, 2])\n",
        "print(a[0, :])\n",
        "print(a[:2, :2])"
      ],
      "metadata": {
        "colab": {
          "base_uri": "https://localhost:8080/"
        },
        "id": "-D7SLwRjlgXi",
        "outputId": "6b8d964a-ea85-4dda-bf12-87d33eda5a59"
      },
      "execution_count": null,
      "outputs": [
        {
          "output_type": "stream",
          "name": "stdout",
          "text": [
            "1\n",
            "[3 6 9]\n",
            "[1 2 3]\n",
            "[[1 2]\n",
            " [4 5]]\n"
          ]
        }
      ]
    },
    {
      "cell_type": "markdown",
      "source": [
        "\n",
        "\n",
        "---\n",
        "\n",
        "Если мы хотим скопировать массив, то важно это делать через метод `copy()`, а не равенство, на примере посмотрим, почему именно так"
      ],
      "metadata": {
        "id": "pDeuadTRtPj4"
      }
    },
    {
      "cell_type": "code",
      "source": [
        "a = np.array([[1, 2], [3, 4]])\n",
        "b = a\n",
        "b[0, 0] = 0\n",
        "print(a)\n",
        "print(b)"
      ],
      "metadata": {
        "colab": {
          "base_uri": "https://localhost:8080/"
        },
        "id": "uPOUkreytcwd",
        "outputId": "4a5384e3-5bb7-436b-ae25-f1c5809b20ed"
      },
      "execution_count": null,
      "outputs": [
        {
          "output_type": "stream",
          "name": "stdout",
          "text": [
            "[[0 2]\n",
            " [3 4]]\n",
            "[[0 2]\n",
            " [3 4]]\n"
          ]
        }
      ]
    },
    {
      "cell_type": "markdown",
      "source": [
        "Как видим, мы изменяли массив b, но a тоже изменился... Поэтому делаем вот так:"
      ],
      "metadata": {
        "id": "XLz_-5Lttu_P"
      }
    },
    {
      "cell_type": "code",
      "source": [
        "a = np.array([[1, 2], [3, 4]])\n",
        "b = a.copy()\n",
        "b[0, 0] = 0\n",
        "print(a)\n",
        "print(b)"
      ],
      "metadata": {
        "colab": {
          "base_uri": "https://localhost:8080/"
        },
        "id": "ZfIRA0HFtznC",
        "outputId": "651c6551-d3c7-423a-8652-764f53ef125f"
      },
      "execution_count": null,
      "outputs": [
        {
          "output_type": "stream",
          "name": "stdout",
          "text": [
            "[[0 2]\n",
            " [3 4]]\n",
            "[[1 2]\n",
            " [3 4]]\n"
          ]
        }
      ]
    },
    {
      "cell_type": "markdown",
      "source": [
        "---\n",
        "Как соединить два массива в один?"
      ],
      "metadata": {
        "id": "KzFdz3FVwHI-"
      }
    },
    {
      "cell_type": "code",
      "source": [
        "a = np.ones((2, 2))\n",
        "b = np.zeros((2, 2))\n",
        "print(np.concatenate((a, b), axis=0))\n",
        "print(np.concatenate((a, b), axis=1))"
      ],
      "metadata": {
        "colab": {
          "base_uri": "https://localhost:8080/"
        },
        "id": "Gqruv39TLd1x",
        "outputId": "6d097ba3-2960-44b8-de94-95529c34886d"
      },
      "execution_count": null,
      "outputs": [
        {
          "output_type": "stream",
          "name": "stdout",
          "text": [
            "[[1. 1.]\n",
            " [1. 1.]\n",
            " [0. 0.]\n",
            " [0. 0.]]\n",
            "[[1. 1. 0. 0.]\n",
            " [1. 1. 0. 0.]]\n"
          ]
        }
      ]
    },
    {
      "cell_type": "code",
      "source": [
        "a = np.ones((1, 3))\n",
        "b = np.zeros((2, 3))\n",
        "np.vstack((a, b)) # вертикальное присоединение, равносильно np.concatenate((a, b), axis=0)"
      ],
      "metadata": {
        "colab": {
          "base_uri": "https://localhost:8080/"
        },
        "id": "A_O03V_KwKbe",
        "outputId": "f8d26eb0-60f6-4101-b788-3b72a11a0eac"
      },
      "execution_count": null,
      "outputs": [
        {
          "output_type": "execute_result",
          "data": {
            "text/plain": [
              "array([[1., 1., 1.],\n",
              "       [0., 0., 0.],\n",
              "       [0., 0., 0.]])"
            ]
          },
          "metadata": {},
          "execution_count": 51
        }
      ]
    },
    {
      "cell_type": "code",
      "source": [
        "a = np.ones((2, 2))\n",
        "b = np.zeros((2, 3))\n",
        "np.hstack((a, b)) # горизонтальное присоединение, равносильно np.concatenate((a, b), axis=1)"
      ],
      "metadata": {
        "colab": {
          "base_uri": "https://localhost:8080/"
        },
        "id": "ixhNHQJkwan5",
        "outputId": "11bc1ca2-182f-4e52-bc05-3afe2caeb68b"
      },
      "execution_count": null,
      "outputs": [
        {
          "output_type": "execute_result",
          "data": {
            "text/plain": [
              "array([[1., 1., 0., 0., 0.],\n",
              "       [1., 1., 0., 0., 0.]])"
            ]
          },
          "metadata": {},
          "execution_count": 52
        }
      ]
    },
    {
      "cell_type": "markdown",
      "source": [
        "Обратите внимание, что здесь также важно следить за размерностью"
      ],
      "metadata": {
        "id": "j4fZa4jnwnwR"
      }
    },
    {
      "cell_type": "markdown",
      "source": [
        "\n",
        "\n",
        "---\n",
        "\n",
        "Рассмотрим как добавлять что-то в массив"
      ],
      "metadata": {
        "id": "wfiTFJwrNHBe"
      }
    },
    {
      "cell_type": "code",
      "source": [
        "a = np.array([[1, 2], [3, 4]])\n",
        "b = np.array([[5, 6], [7, 8]])\n",
        "\n",
        "np.append(a, b) # как для list"
      ],
      "metadata": {
        "colab": {
          "base_uri": "https://localhost:8080/"
        },
        "id": "mpQA67-3NSUF",
        "outputId": "f4d06dae-fafe-4236-94a5-d40704a31208"
      },
      "execution_count": null,
      "outputs": [
        {
          "output_type": "execute_result",
          "data": {
            "text/plain": [
              "array([1, 2, 3, 4, 5, 6, 7, 8])"
            ]
          },
          "metadata": {},
          "execution_count": 57
        }
      ]
    },
    {
      "cell_type": "code",
      "source": [
        "np.insert(a, 1, b, axis=0) # в массив a добавить массив b после 1 строки"
      ],
      "metadata": {
        "colab": {
          "base_uri": "https://localhost:8080/"
        },
        "id": "0dDxdy8VNohj",
        "outputId": "36dfbd44-64e2-4c3b-bf4d-e0afff91de76"
      },
      "execution_count": null,
      "outputs": [
        {
          "output_type": "execute_result",
          "data": {
            "text/plain": [
              "array([[1, 2],\n",
              "       [5, 6],\n",
              "       [7, 8],\n",
              "       [3, 4]])"
            ]
          },
          "metadata": {},
          "execution_count": 61
        }
      ]
    },
    {
      "cell_type": "code",
      "source": [
        "np.resize(a, (4, 2)) # если новый размер больше, то заполнит копиями массива"
      ],
      "metadata": {
        "colab": {
          "base_uri": "https://localhost:8080/"
        },
        "id": "QIy6kKmGOJtV",
        "outputId": "88c4623e-3133-47cd-b77f-69e4a6fcdad4"
      },
      "execution_count": null,
      "outputs": [
        {
          "output_type": "execute_result",
          "data": {
            "text/plain": [
              "array([[1, 2],\n",
              "       [3, 4],\n",
              "       [1, 2],\n",
              "       [3, 4]])"
            ]
          },
          "metadata": {},
          "execution_count": 65
        }
      ]
    },
    {
      "cell_type": "code",
      "source": [
        "a.resize((4, 2), refcheck=False) # если новый размер больше, то заполнит нулями\n",
        "a"
      ],
      "metadata": {
        "colab": {
          "base_uri": "https://localhost:8080/"
        },
        "id": "XiFFcf9OOrKE",
        "outputId": "bc426dfd-9652-423f-e7fb-baa9290c7820"
      },
      "execution_count": null,
      "outputs": [
        {
          "output_type": "execute_result",
          "data": {
            "text/plain": [
              "array([[1, 2],\n",
              "       [3, 4],\n",
              "       [0, 0],\n",
              "       [0, 0]])"
            ]
          },
          "metadata": {},
          "execution_count": 67
        }
      ]
    },
    {
      "cell_type": "markdown",
      "source": [
        "# Операции с матрицами"
      ],
      "metadata": {
        "id": "qnRKFFeF6xdX"
      }
    },
    {
      "cell_type": "code",
      "source": [
        "a = np.array([[1, 2, 3],\n",
        "             [4, 5, 6],\n",
        "              [7, 8, 9]])"
      ],
      "metadata": {
        "id": "brPDzxj73cdj"
      },
      "execution_count": null,
      "outputs": []
    },
    {
      "cell_type": "code",
      "source": [
        "a.T # транспонирование"
      ],
      "metadata": {
        "colab": {
          "base_uri": "https://localhost:8080/"
        },
        "id": "JeyV3fLV68P3",
        "outputId": "8afb4e34-276e-4b7f-b02a-ade82275b98a"
      },
      "execution_count": null,
      "outputs": [
        {
          "output_type": "execute_result",
          "data": {
            "text/plain": [
              "array([[1, 4, 7],\n",
              "       [2, 5, 8],\n",
              "       [3, 6, 9]])"
            ]
          },
          "metadata": {},
          "execution_count": 20
        }
      ]
    },
    {
      "cell_type": "code",
      "source": [
        "np.transpose(a) # другой вариант транспонирования"
      ],
      "metadata": {
        "colab": {
          "base_uri": "https://localhost:8080/"
        },
        "id": "ZNV6i7IA6-XF",
        "outputId": "5adef460-a496-4f4d-871b-14b43ba0ab7f"
      },
      "execution_count": null,
      "outputs": [
        {
          "output_type": "execute_result",
          "data": {
            "text/plain": [
              "array([[1, 4, 7],\n",
              "       [2, 5, 8],\n",
              "       [3, 6, 9]])"
            ]
          },
          "metadata": {},
          "execution_count": 21
        }
      ]
    },
    {
      "cell_type": "code",
      "source": [
        "np.diagonal(a) # главная диагональ матрицы"
      ],
      "metadata": {
        "colab": {
          "base_uri": "https://localhost:8080/"
        },
        "id": "Cbk26Y4I7EVo",
        "outputId": "2aaa0777-89d1-4824-e1e4-9179d054bcf1"
      },
      "execution_count": null,
      "outputs": [
        {
          "output_type": "execute_result",
          "data": {
            "text/plain": [
              "array([1, 5, 9])"
            ]
          },
          "metadata": {},
          "execution_count": 22
        }
      ]
    },
    {
      "cell_type": "markdown",
      "source": [
        "\n",
        "\n",
        "---\n",
        "\n",
        "\n",
        "Математические операции происходят поэлементно как для двух матриц, так и для матрицы и скаляра (матричное умножение рассмотрим\n",
        "немного позже)"
      ],
      "metadata": {
        "id": "ZAqzJgtumnQk"
      }
    },
    {
      "cell_type": "code",
      "source": [
        "a = np.array([[1, 2], [3, 4]])\n",
        "b = np.array([[5, 6], [7, 8]])"
      ],
      "metadata": {
        "id": "pMLtUAmc7Obg"
      },
      "execution_count": null,
      "outputs": []
    },
    {
      "cell_type": "code",
      "source": [
        "a + b"
      ],
      "metadata": {
        "colab": {
          "base_uri": "https://localhost:8080/"
        },
        "id": "X8VLt3jP7j0e",
        "outputId": "692685b7-ed7b-445f-d320-ae35d20714b8"
      },
      "execution_count": null,
      "outputs": [
        {
          "output_type": "execute_result",
          "data": {
            "text/plain": [
              "array([[ 6,  8],\n",
              "       [10, 12]])"
            ]
          },
          "metadata": {},
          "execution_count": 24
        }
      ]
    },
    {
      "cell_type": "code",
      "source": [
        "a - b"
      ],
      "metadata": {
        "colab": {
          "base_uri": "https://localhost:8080/"
        },
        "id": "7tFmtoHckgR_",
        "outputId": "e19c6c5a-cf2d-480a-f553-cc407df63bb2"
      },
      "execution_count": null,
      "outputs": [
        {
          "output_type": "execute_result",
          "data": {
            "text/plain": [
              "array([[-4, -4],\n",
              "       [-4, -4]])"
            ]
          },
          "metadata": {},
          "execution_count": 25
        }
      ]
    },
    {
      "cell_type": "code",
      "source": [
        "a * b"
      ],
      "metadata": {
        "colab": {
          "base_uri": "https://localhost:8080/"
        },
        "id": "25MBN9xxn2TL",
        "outputId": "0e1f93e7-f69d-4b76-cb94-ec954c56c55a"
      },
      "execution_count": null,
      "outputs": [
        {
          "output_type": "execute_result",
          "data": {
            "text/plain": [
              "array([[ 5, 12],\n",
              "       [21, 32]])"
            ]
          },
          "metadata": {},
          "execution_count": 26
        }
      ]
    },
    {
      "cell_type": "code",
      "source": [
        "a / b"
      ],
      "metadata": {
        "colab": {
          "base_uri": "https://localhost:8080/"
        },
        "id": "NK-W1R-_n4jB",
        "outputId": "99f75172-eecd-4d6b-898c-cd09267b56e8"
      },
      "execution_count": null,
      "outputs": [
        {
          "output_type": "execute_result",
          "data": {
            "text/plain": [
              "array([[0.2       , 0.33333333],\n",
              "       [0.42857143, 0.5       ]])"
            ]
          },
          "metadata": {},
          "execution_count": 27
        }
      ]
    },
    {
      "cell_type": "code",
      "source": [
        "a ** 2"
      ],
      "metadata": {
        "colab": {
          "base_uri": "https://localhost:8080/"
        },
        "id": "nXFacpT-oCcu",
        "outputId": "79e60b8c-8b01-4dea-9d47-340afbcf53c8"
      },
      "execution_count": null,
      "outputs": [
        {
          "output_type": "execute_result",
          "data": {
            "text/plain": [
              "array([[ 1,  4],\n",
              "       [ 9, 16]])"
            ]
          },
          "metadata": {},
          "execution_count": 28
        }
      ]
    },
    {
      "cell_type": "code",
      "source": [
        "1 / a"
      ],
      "metadata": {
        "colab": {
          "base_uri": "https://localhost:8080/"
        },
        "id": "x8FqIfOEoFne",
        "outputId": "fb79b38d-a80f-4bee-fd00-79f5682b32a3"
      },
      "execution_count": null,
      "outputs": [
        {
          "output_type": "execute_result",
          "data": {
            "text/plain": [
              "array([[1.        , 0.5       ],\n",
              "       [0.33333333, 0.25      ]])"
            ]
          },
          "metadata": {},
          "execution_count": 29
        }
      ]
    },
    {
      "cell_type": "code",
      "source": [
        "np.sin(a) # также применится ко всем элементам"
      ],
      "metadata": {
        "colab": {
          "base_uri": "https://localhost:8080/"
        },
        "id": "lChZ_0doouqS",
        "outputId": "3ecbbd7e-7297-4472-a32b-602a65f4bb5e"
      },
      "execution_count": null,
      "outputs": [
        {
          "output_type": "execute_result",
          "data": {
            "text/plain": [
              "array([[ 0.84147098,  0.90929743],\n",
              "       [ 0.14112001, -0.7568025 ]])"
            ]
          },
          "metadata": {},
          "execution_count": 30
        }
      ]
    },
    {
      "cell_type": "code",
      "source": [
        "np.sqrt(a)"
      ],
      "metadata": {
        "colab": {
          "base_uri": "https://localhost:8080/"
        },
        "id": "amS5b3Y3rEyS",
        "outputId": "67e68d0b-5ef1-4732-998e-1457e4e90d24"
      },
      "execution_count": null,
      "outputs": [
        {
          "output_type": "execute_result",
          "data": {
            "text/plain": [
              "array([[1.        , 1.41421356],\n",
              "       [1.73205081, 2.        ]])"
            ]
          },
          "metadata": {},
          "execution_count": 31
        }
      ]
    },
    {
      "cell_type": "code",
      "source": [
        "a < 3 # поэлементно выполнится сравнение"
      ],
      "metadata": {
        "colab": {
          "base_uri": "https://localhost:8080/"
        },
        "id": "5wwDMy0Wvl8L",
        "outputId": "c98c7608-0a9d-4f99-e3db-35fdebca3483"
      },
      "execution_count": null,
      "outputs": [
        {
          "output_type": "execute_result",
          "data": {
            "text/plain": [
              "array([[ True,  True],\n",
              "       [False, False]])"
            ]
          },
          "metadata": {},
          "execution_count": 32
        }
      ]
    },
    {
      "cell_type": "markdown",
      "source": [
        "Раз начали про сравнения, посмотрим на то, как можно фильтровать элементы массива"
      ],
      "metadata": {
        "id": "aCt5SyIMQU2o"
      }
    },
    {
      "cell_type": "code",
      "source": [
        "a = np.array([[1, 2, 3],\n",
        "              [4, 5, 6],\n",
        "              [7, 8, 9]])\n",
        "a[(a > 3) & (a <= 8) | (a == 1)]"
      ],
      "metadata": {
        "colab": {
          "base_uri": "https://localhost:8080/"
        },
        "id": "EV3f_UXyP93T",
        "outputId": "4f090f2c-19f7-475e-95db-1bb5762e36b3"
      },
      "execution_count": null,
      "outputs": [
        {
          "output_type": "execute_result",
          "data": {
            "text/plain": [
              "array([1, 4, 5, 6, 7, 8])"
            ]
          },
          "metadata": {},
          "execution_count": 70
        }
      ]
    },
    {
      "cell_type": "code",
      "source": [
        "(a > 0).all() # проверить, все ли значения True"
      ],
      "metadata": {
        "colab": {
          "base_uri": "https://localhost:8080/"
        },
        "id": "XJbn1Ut8SYFH",
        "outputId": "2728b807-4cea-40f2-b0a8-f4002d00ec21"
      },
      "execution_count": null,
      "outputs": [
        {
          "output_type": "execute_result",
          "data": {
            "text/plain": [
              "True"
            ]
          },
          "metadata": {},
          "execution_count": 71
        }
      ]
    },
    {
      "cell_type": "code",
      "source": [
        "(a > 9).any() # проверить, есть ли хоть одно значение True"
      ],
      "metadata": {
        "colab": {
          "base_uri": "https://localhost:8080/"
        },
        "id": "ZRAknN1NSi7f",
        "outputId": "2a5cfdc4-66e7-4135-80f2-f02d7717e88d"
      },
      "execution_count": null,
      "outputs": [
        {
          "output_type": "execute_result",
          "data": {
            "text/plain": [
              "False"
            ]
          },
          "metadata": {},
          "execution_count": 72
        }
      ]
    },
    {
      "cell_type": "markdown",
      "source": [
        "\n",
        "\n",
        "---\n",
        "\n",
        "Теперь вернемся к вопросу о матричном умножении"
      ],
      "metadata": {
        "id": "O2NRpJFPo9fq"
      }
    },
    {
      "cell_type": "code",
      "source": [
        "a = np.array([[1, 2], [3, 4], [5, 6]])\n",
        "b = np.ones((2, 3))"
      ],
      "metadata": {
        "id": "eXhyKcsiowt1"
      },
      "execution_count": null,
      "outputs": []
    },
    {
      "cell_type": "code",
      "source": [
        "np.matmul(a, b)"
      ],
      "metadata": {
        "colab": {
          "base_uri": "https://localhost:8080/"
        },
        "id": "sSzztrHNpRgg",
        "outputId": "4be5dad2-e137-4552-8869-ca1aad988eba"
      },
      "execution_count": null,
      "outputs": [
        {
          "output_type": "execute_result",
          "data": {
            "text/plain": [
              "array([[ 3.,  3.,  3.],\n",
              "       [ 7.,  7.,  7.],\n",
              "       [11., 11., 11.]])"
            ]
          },
          "metadata": {},
          "execution_count": 34
        }
      ]
    },
    {
      "cell_type": "code",
      "source": [
        "np.matmul(b, a)"
      ],
      "metadata": {
        "colab": {
          "base_uri": "https://localhost:8080/"
        },
        "id": "hdECKPmdpUt6",
        "outputId": "6b13c163-90c6-4273-9d31-db5d55d2ac8c"
      },
      "execution_count": null,
      "outputs": [
        {
          "output_type": "execute_result",
          "data": {
            "text/plain": [
              "array([[ 9., 12.],\n",
              "       [ 9., 12.]])"
            ]
          },
          "metadata": {},
          "execution_count": 35
        }
      ]
    },
    {
      "cell_type": "markdown",
      "source": [
        "Напомню, что в общем случае матричное умножение не мультипликативно и важно следить за соответствием размероностей, чтобы было возможно выполнить операцию"
      ],
      "metadata": {
        "id": "rM0ThzuCp9He"
      }
    },
    {
      "cell_type": "code",
      "source": [
        "np.dot(a, b)"
      ],
      "metadata": {
        "colab": {
          "base_uri": "https://localhost:8080/"
        },
        "id": "hFkSd18Yp1mI",
        "outputId": "ef5d636f-35c9-42f0-c391-ca36f0b2cf23"
      },
      "execution_count": null,
      "outputs": [
        {
          "output_type": "execute_result",
          "data": {
            "text/plain": [
              "array([[ 3.,  3.,  3.],\n",
              "       [ 7.,  7.,  7.],\n",
              "       [11., 11., 11.]])"
            ]
          },
          "metadata": {},
          "execution_count": 36
        }
      ]
    },
    {
      "cell_type": "code",
      "source": [
        "a.dot(b)"
      ],
      "metadata": {
        "colab": {
          "base_uri": "https://localhost:8080/"
        },
        "id": "u41efp9Rqf8I",
        "outputId": "ccd8306a-abcf-4b6c-96ed-8252fa8d3a94"
      },
      "execution_count": null,
      "outputs": [
        {
          "output_type": "execute_result",
          "data": {
            "text/plain": [
              "array([[ 3.,  3.,  3.],\n",
              "       [ 7.,  7.,  7.],\n",
              "       [11., 11., 11.]])"
            ]
          },
          "metadata": {},
          "execution_count": 37
        }
      ]
    },
    {
      "cell_type": "code",
      "source": [
        "a @ b"
      ],
      "metadata": {
        "colab": {
          "base_uri": "https://localhost:8080/"
        },
        "id": "gCmhXKHOqjUI",
        "outputId": "3e1417db-7aba-4cc1-8a71-e8dba92ad7ea"
      },
      "execution_count": null,
      "outputs": [
        {
          "output_type": "execute_result",
          "data": {
            "text/plain": [
              "array([[ 3.,  3.,  3.],\n",
              "       [ 7.,  7.,  7.],\n",
              "       [11., 11., 11.]])"
            ]
          },
          "metadata": {},
          "execution_count": 39
        }
      ]
    },
    {
      "cell_type": "markdown",
      "source": [
        "Это все были разные варианты записи одного и того же умножения двух матриц"
      ],
      "metadata": {
        "id": "1ToOazvDqs3Z"
      }
    },
    {
      "cell_type": "code",
      "source": [
        "a = np.array([[1, 2], [3, 4]])\n",
        "np.prod(a) # произведение всех элементов матрицы"
      ],
      "metadata": {
        "colab": {
          "base_uri": "https://localhost:8080/"
        },
        "id": "qdV7VsAoqkhO",
        "outputId": "2830c8bc-62d8-4f86-94a4-2f65ec06b578"
      },
      "execution_count": null,
      "outputs": [
        {
          "output_type": "execute_result",
          "data": {
            "text/plain": [
              "24"
            ]
          },
          "metadata": {},
          "execution_count": 40
        }
      ]
    },
    {
      "cell_type": "code",
      "source": [
        "np.sum(a) # сумма всех элементов матрицы"
      ],
      "metadata": {
        "colab": {
          "base_uri": "https://localhost:8080/"
        },
        "id": "yV5mJyvwq1qU",
        "outputId": "daac6090-c0f4-44c4-f32d-599c2009ba79"
      },
      "execution_count": null,
      "outputs": [
        {
          "output_type": "execute_result",
          "data": {
            "text/plain": [
              "10"
            ]
          },
          "metadata": {},
          "execution_count": 41
        }
      ]
    },
    {
      "cell_type": "markdown",
      "source": [
        "\n",
        "\n",
        "---\n",
        "\n",
        "Еще немного о фильтрации"
      ],
      "metadata": {
        "id": "QkswxKMST5ht"
      }
    },
    {
      "cell_type": "markdown",
      "source": [
        "\n",
        "\n",
        "*   `np.where(cond, act1, act2)` - поэлементно, если `cond=True` выполняется `act1`, иначе `act2`\n",
        "*   `np.clip(a, a_min, a_max)` - все, что меньше `a_min`, теперь равно `a_min`, все, что больше `a_max`, равно `a_max`\n",
        "\n"
      ],
      "metadata": {
        "id": "96hz7W_BVd7I"
      }
    },
    {
      "cell_type": "code",
      "source": [
        "a = np.array([[1, 2, 3],\n",
        "              [4, 5, 6],\n",
        "              [7, 8, 9]])\n",
        "np.where(a >= 5, a * 2, 0)"
      ],
      "metadata": {
        "colab": {
          "base_uri": "https://localhost:8080/"
        },
        "id": "VAHqXXi2T9VH",
        "outputId": "c88d9679-0584-41f6-e88f-d77eb54c9c66"
      },
      "execution_count": null,
      "outputs": [
        {
          "output_type": "execute_result",
          "data": {
            "text/plain": [
              "array([[ 0,  0,  0],\n",
              "       [ 0, 10, 12],\n",
              "       [14, 16, 18]])"
            ]
          },
          "metadata": {},
          "execution_count": 78
        }
      ]
    },
    {
      "cell_type": "code",
      "source": [
        "np.clip(a, 2, 8)"
      ],
      "metadata": {
        "colab": {
          "base_uri": "https://localhost:8080/"
        },
        "id": "UajCgadxVFG5",
        "outputId": "f58f3573-0cae-4abd-9f6a-94f84cd6c5d7"
      },
      "execution_count": null,
      "outputs": [
        {
          "output_type": "execute_result",
          "data": {
            "text/plain": [
              "array([[2, 2, 3],\n",
              "       [4, 5, 6],\n",
              "       [7, 8, 8]])"
            ]
          },
          "metadata": {},
          "execution_count": 77
        }
      ]
    },
    {
      "cell_type": "markdown",
      "source": [
        "# np.linalg\n",
        "Это модуль с множеством функций из линейной алгебры"
      ],
      "metadata": {
        "id": "tOYqo7-fWiq2"
      }
    },
    {
      "cell_type": "markdown",
      "source": [
        "Вот некоторые из них:\n",
        "\n",
        "\n",
        "*   `np.linalg.det` - определитель матрицы\n",
        "*   `np.linalg.inv` - обратная матрица (если матрица необратима, то найде псевдообратную)\n",
        "*   `np.linalg.norm` - матричная норма\n",
        "*   `np.linalg.svd` - SVD разложение\n",
        "*   `np.linalg.qr` - QR разложение\n",
        "*   `np.linalg.solve(a, b)` - решение системы ax=b\n",
        "\n"
      ],
      "metadata": {
        "id": "ZdgHubabXDZZ"
      }
    },
    {
      "cell_type": "markdown",
      "source": [
        "---\n",
        "Это был краткий обзор базовых функций, NumPy дает возможность эффективно анализировать данные, хорошо служит для задач линейной алгебры и статистики."
      ],
      "metadata": {
        "id": "mcFLh2Fgw_W7"
      }
    }
  ]
}