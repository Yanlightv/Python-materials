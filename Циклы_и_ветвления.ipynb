{
  "nbformat": 4,
  "nbformat_minor": 0,
  "metadata": {
    "colab": {
      "provenance": []
    },
    "kernelspec": {
      "name": "python3",
      "display_name": "Python 3"
    },
    "language_info": {
      "name": "python"
    }
  },
  "cells": [
    {
      "cell_type": "markdown",
      "source": [
        "# **Циклы и ветвления**"
      ],
      "metadata": {
        "id": "lrg-a61olBPF"
      }
    },
    {
      "cell_type": "markdown",
      "source": [
        "При написании кода часто возникает ситуация, когда дальнейшие действия зависят от какого-то условия, тогда на помощь приходят конструкции *ветвления*. А для ситуации, когда нам необходимо, чтобы какая-то часть кода выполнялась несколько раз, разумнее использовать *циклы*, а не повторять несколько раз один и тот же код. Сейчас мы познакомимся с ними!"
      ],
      "metadata": {
        "id": "XD8lv9CQmVQs"
      }
    },
    {
      "cell_type": "markdown",
      "source": [
        "# Условный оператор if"
      ],
      "metadata": {
        "id": "fibgMX6elAFU"
      }
    },
    {
      "cell_type": "markdown",
      "source": [
        "Общий вид:"
      ],
      "metadata": {
        "id": "p7qG3kukm0NS"
      }
    },
    {
      "cell_type": "code",
      "source": [
        "if 'условие_1':\n",
        "  'блок_1'\n",
        "elif 'условие_2':\n",
        "  'блок_2'\n",
        "else:\n",
        "  'блок_3'"
      ],
      "metadata": {
        "id": "iOlZFDS7mnUr"
      },
      "execution_count": null,
      "outputs": []
    },
    {
      "cell_type": "markdown",
      "source": [
        "Если *условие_1* истинно, то выполнится *блок_1*, иначе будет проверено *условие_2*. Если *условие_2* истинно, то выполнится *блок_2*, иначе выполнится *блок_3*.\n",
        "\n"
      ],
      "metadata": {
        "id": "s98a_G8Jn2w-"
      }
    },
    {
      "cell_type": "markdown",
      "source": [
        ">Заметим следующие моменты\n",
        "\n",
        "*   В одном условии может быть несколько логических выражений, связанных через and (и) или or (или)\n",
        "*   Условия проверяются в том порядке, в котором они записаны, если одно из них было выполнено, остальные не будут даже проверяться.\n",
        "*   Первое условие пишется через if, все последующие через elif, else идет последним и исполняется, если ни одно из условий не было выполнено.\n",
        "\n",
        "\n",
        "\n",
        "---\n",
        "\n",
        "\n"
      ],
      "metadata": {
        "id": "Wvi_XJL1oRgK"
      }
    },
    {
      "cell_type": "markdown",
      "source": [
        "1. Давайте напишем простейшую программу, которая проверит число на четность.\n",
        "\n",
        "\n"
      ],
      "metadata": {
        "id": "HHCZSwI1ovOQ"
      }
    },
    {
      "cell_type": "code",
      "source": [
        "a = 24 # число, которое хотим проверить на четность\n",
        "\n",
        "if a % 2 == 0:\n",
        "  print('Четное')\n",
        "else:\n",
        "  print('Нечетное')"
      ],
      "metadata": {
        "colab": {
          "base_uri": "https://localhost:8080/"
        },
        "id": "nBgp9SrSoGtG",
        "outputId": "6524fc92-bdb5-4404-c2a0-14933b787aee"
      },
      "execution_count": null,
      "outputs": [
        {
          "output_type": "stream",
          "name": "stdout",
          "text": [
            "Четное\n"
          ]
        }
      ]
    },
    {
      "cell_type": "markdown",
      "source": [
        "---\n",
        "Существует еще краткая запись условного оператора (похоже на тернарный оператор в С):"
      ],
      "metadata": {
        "id": "EOep8y8kqg3q"
      }
    },
    {
      "cell_type": "code",
      "source": [
        "x = 'вариант_1' if 'условие' else 'вариант_2'"
      ],
      "metadata": {
        "id": "K1T1Nic0oulZ"
      },
      "execution_count": null,
      "outputs": []
    },
    {
      "cell_type": "markdown",
      "source": [
        "Это равносильно следующей записи:"
      ],
      "metadata": {
        "id": "3aRCmAxVrI2t"
      }
    },
    {
      "cell_type": "code",
      "source": [
        "if 'условие':\n",
        "  x = 'вариант_1'\n",
        "else:\n",
        "  x = 'вариант_2'"
      ],
      "metadata": {
        "id": "LD0bcKUsrG88"
      },
      "execution_count": null,
      "outputs": []
    },
    {
      "cell_type": "markdown",
      "source": [
        "# Цикл while"
      ],
      "metadata": {
        "id": "kjVQszotrxcK"
      }
    },
    {
      "cell_type": "markdown",
      "source": [
        "Цикл с условием чаще всего используется в ситуациях, когда нам неизвестно точное количество повторений, но известно условие, при котором стоит остановится."
      ],
      "metadata": {
        "id": "TBfzb-JSvEgO"
      }
    },
    {
      "cell_type": "markdown",
      "source": [
        "Общий вид:"
      ],
      "metadata": {
        "id": "IC5y-Bcjstki"
      }
    },
    {
      "cell_type": "code",
      "source": [
        "while 'условие':\n",
        "  'блок_1'\n",
        "else:\n",
        "  'блок_2'"
      ],
      "metadata": {
        "id": "VnGAuTTirUfw"
      },
      "execution_count": null,
      "outputs": []
    },
    {
      "cell_type": "markdown",
      "source": [
        "*Блок_1* будет выполняться до тех пор, пока *условие* истинно. При желании можно добавить блок else, который выполнится при выходе из цикла, если он не был прерван."
      ],
      "metadata": {
        "id": "x9_1WJUYuC_W"
      }
    },
    {
      "cell_type": "markdown",
      "source": [
        ">Инструкции управления циклом:\n",
        "\n",
        "*   **break** - прерывает цикл (блок else пропускается)\n",
        "*   **continue** - прерывает данную итерацию цикла и переходит к следущей\n",
        "\n",
        "\n",
        "\n",
        "---\n",
        "\n"
      ],
      "metadata": {
        "id": "sXar-tnaurvG"
      }
    },
    {
      "cell_type": "markdown",
      "source": [
        "2. Напишем программу, которая будет увеличивать число a, пока оно не будет делится на число b."
      ],
      "metadata": {
        "id": "-WyHnLkkwQs9"
      }
    },
    {
      "cell_type": "code",
      "source": [
        "a = 10\n",
        "b = 7\n",
        "\n",
        "while a % b != 0:\n",
        "  print(f'{a} не делится на {b}')\n",
        "  a += 1\n",
        "else:\n",
        "  print(f'{a} делится на {b}!')"
      ],
      "metadata": {
        "colab": {
          "base_uri": "https://localhost:8080/"
        },
        "id": "xVr3gzoBuyGJ",
        "outputId": "3893886f-6b53-4cd5-b86d-456f6fe2d09e"
      },
      "execution_count": null,
      "outputs": [
        {
          "output_type": "stream",
          "name": "stdout",
          "text": [
            "10 не делится на 7\n",
            "11 не делится на 7\n",
            "12 не делится на 7\n",
            "13 не делится на 7\n",
            "14 делится на 7!\n"
          ]
        }
      ]
    },
    {
      "cell_type": "markdown",
      "source": [
        "\n",
        "\n",
        "---\n",
        "\n",
        "\n",
        "\n",
        "> **Важно!** Проверяйте, чтобы в конечном итоге условие цикла становилось ложным или присутствовала инструкция break, то есть цикл завершался в какой-то момент, иначе он будет исполняться бесконечно\n",
        "\n"
      ],
      "metadata": {
        "id": "KFaqHP9wyifc"
      }
    },
    {
      "cell_type": "markdown",
      "source": [
        "# Цикл for"
      ],
      "metadata": {
        "id": "cFMXTXJ5zHxY"
      }
    },
    {
      "cell_type": "markdown",
      "source": [
        "Цикл for позволяет выполнить действия для каждого элемента из итерируемого объекта (списка, словаря и т.д.)."
      ],
      "metadata": {
        "id": "ZzRvpv5pze5E"
      }
    },
    {
      "cell_type": "markdown",
      "source": [
        "Общий вид:"
      ],
      "metadata": {
        "id": "q0Gnn41w0Oli"
      }
    },
    {
      "cell_type": "code",
      "source": [
        "for элемент in 'итерируемый объект':\n",
        "  'блок_1'\n",
        "else:\n",
        "  'блок_2'"
      ],
      "metadata": {
        "id": "xcTOLsr-uabf"
      },
      "execution_count": null,
      "outputs": []
    },
    {
      "cell_type": "markdown",
      "source": [
        "*Блок_1* будет выполняться по очереди для всех *элементов* из *итерируемого объекта*. При желании можно добавить блок `else`, который выполнится при выходе из цикла, если он не был прерван."
      ],
      "metadata": {
        "id": "Utyo1YGf0jBS"
      }
    },
    {
      "cell_type": "markdown",
      "source": [
        "Также как и для цикла while, можно использовать инструкции break и continue при необходимости.\n",
        "\n",
        "---\n",
        "\n"
      ],
      "metadata": {
        "id": "Kss9l4CZ0-FG"
      }
    },
    {
      "cell_type": "markdown",
      "source": [
        "3. Напишем программу, которая напечатает все элементы списка и выведет их сумму в конце."
      ],
      "metadata": {
        "id": "Sk1l6FFw1JIh"
      }
    },
    {
      "cell_type": "code",
      "source": [
        "arr = [1, 34, 2, 5, 100]\n",
        "\n",
        "sum = 0\n",
        "\n",
        "for i in arr:\n",
        "  sum += i\n",
        "  print(i)\n",
        "else:\n",
        "  print('Сумма элементов списка:', sum)"
      ],
      "metadata": {
        "colab": {
          "base_uri": "https://localhost:8080/"
        },
        "id": "PzCtpO5g0whu",
        "outputId": "9512b9e8-bd44-4b82-d347-0b8343e6ec05"
      },
      "execution_count": null,
      "outputs": [
        {
          "output_type": "stream",
          "name": "stdout",
          "text": [
            "1\n",
            "34\n",
            "2\n",
            "5\n",
            "100\n",
            "Сумма элементов списка: 142\n"
          ]
        }
      ]
    },
    {
      "cell_type": "markdown",
      "source": [
        "\n",
        "\n",
        "---\n",
        "\n",
        "Если мы знаем сколько раз хотим выполнить какие-то действия, то удобно использовать аналог цикла со счетчиком, будем в `for` перемещаться по числовому диапазону:"
      ],
      "metadata": {
        "id": "5pqtuwBGU6Gn"
      }
    },
    {
      "cell_type": "code",
      "source": [
        "for i in range(10):\n",
        "  print(i, end=\" \")"
      ],
      "metadata": {
        "colab": {
          "base_uri": "https://localhost:8080/"
        },
        "id": "PLN6OnYX1p-f",
        "outputId": "d61221bd-b3fe-441b-837e-080573ba25c0"
      },
      "execution_count": null,
      "outputs": [
        {
          "output_type": "stream",
          "name": "stdout",
          "text": [
            "0 1 2 3 4 5 6 7 8 9 "
          ]
        }
      ]
    },
    {
      "cell_type": "markdown",
      "source": [
        "range(*a*, *b*, *c*) перебирает целые числа в диапазоне [*a*, *b*) с шагом *c*. По умолчанию a = 0, c = 1."
      ],
      "metadata": {
        "id": "r5zeBvIGWToP"
      }
    },
    {
      "cell_type": "markdown",
      "source": [
        "---\n",
        "\n",
        "Если мы хотим напечатать список в обратном порядке, то есть два варианта:"
      ],
      "metadata": {
        "id": "AaneRoygWNOm"
      }
    },
    {
      "cell_type": "code",
      "source": [
        "# 1 - reversed\n",
        "\n",
        "for i in reversed(range(11)):\n",
        "  print(i, end=' ')"
      ],
      "metadata": {
        "colab": {
          "base_uri": "https://localhost:8080/"
        },
        "id": "SB0Y0-yzVn29",
        "outputId": "d0d2a128-d37f-4421-b68f-b4718fc239d3"
      },
      "execution_count": null,
      "outputs": [
        {
          "output_type": "stream",
          "name": "stdout",
          "text": [
            "10 9 8 7 6 5 4 3 2 1 0 "
          ]
        }
      ]
    },
    {
      "cell_type": "code",
      "source": [
        "# 2 - range()\n",
        "\n",
        "for i in range(10, -1, -1):  # помним, что первый параметр включен в диапазон, а второй нет\n",
        "  print(i, end=' ')"
      ],
      "metadata": {
        "colab": {
          "base_uri": "https://localhost:8080/"
        },
        "id": "JhYvUxbuXPYe",
        "outputId": "3c73c7ca-619e-4788-9b70-3122f2b1195c"
      },
      "execution_count": null,
      "outputs": [
        {
          "output_type": "stream",
          "name": "stdout",
          "text": [
            "10 9 8 7 6 5 4 3 2 1 0 "
          ]
        }
      ]
    },
    {
      "cell_type": "markdown",
      "source": [
        "\n",
        "\n",
        "---\n",
        "Если мы хотим вывести отсортированный список, то воспользуемся sorted()\n"
      ],
      "metadata": {
        "id": "w-cMttqTayVY"
      }
    },
    {
      "cell_type": "code",
      "source": [
        "arr = ['яблоко', 'апельсин', 'груша', 'абрикос']\n",
        "\n",
        "for i in sorted(arr):\n",
        "  print(i)"
      ],
      "metadata": {
        "colab": {
          "base_uri": "https://localhost:8080/"
        },
        "id": "RaahwNJXaLeL",
        "outputId": "b74ebb13-fd7a-4594-fcd3-8ac56d8929f6"
      },
      "execution_count": null,
      "outputs": [
        {
          "output_type": "stream",
          "name": "stdout",
          "text": [
            "абрикос\n",
            "апельсин\n",
            "груша\n",
            "яблоко\n"
          ]
        }
      ]
    },
    {
      "cell_type": "markdown",
      "source": [
        "\n",
        "\n",
        "---\n",
        "\n",
        "Если мы хотим не только пройти по списку, но и узнать порядковый номер его элементов, воспользуемся enumerate()"
      ],
      "metadata": {
        "id": "DrbskAFBb_Vt"
      }
    },
    {
      "cell_type": "code",
      "source": [
        "arr = ['яблоко', 'апельсин', 'груша', 'абрикос']\n",
        "\n",
        "for i, elem in enumerate(arr):\n",
        "  print(i, elem)"
      ],
      "metadata": {
        "colab": {
          "base_uri": "https://localhost:8080/"
        },
        "id": "Mz1BvMCybEvx",
        "outputId": "24b6dc8e-cb68-4ebe-8c18-42d392460e88"
      },
      "execution_count": null,
      "outputs": [
        {
          "output_type": "stream",
          "name": "stdout",
          "text": [
            "0 яблоко\n",
            "1 груша\n",
            "2 апельсин\n",
            "3 абрикос\n"
          ]
        }
      ]
    },
    {
      "cell_type": "markdown",
      "source": [
        "\n",
        "\n",
        "---\n",
        "\n",
        "Итерация по словарю проходит по ключам, но мы можем получить пару ключа со значением с помощью items()"
      ],
      "metadata": {
        "id": "bHJBfs3Seg9g"
      }
    },
    {
      "cell_type": "code",
      "source": [
        "dict = {'1 января': 'Новый год', '7 января': 'Рождество', '28 июля': 'День рождения'}\n",
        "\n",
        "for key, val in dict.items():\n",
        "  print(key, '-', val)"
      ],
      "metadata": {
        "colab": {
          "base_uri": "https://localhost:8080/"
        },
        "id": "mm4bvNSmcTW8",
        "outputId": "96854475-e00e-4fef-fbb2-bcc1df68adf4"
      },
      "execution_count": null,
      "outputs": [
        {
          "output_type": "stream",
          "name": "stdout",
          "text": [
            "1 января - Новый год\n",
            "7 января - Рождество\n",
            "28 июля - День рождения\n"
          ]
        }
      ]
    },
    {
      "cell_type": "markdown",
      "source": [
        "# Комбинации циклов и условий"
      ],
      "metadata": {
        "id": "KTi1dnplhnxV"
      }
    },
    {
      "cell_type": "markdown",
      "source": [
        "Циклы можно комбинировать с условиями, также можно создавать вложенные циклы. В общем, можно создавать любые комбинации для решения поставленной задачи."
      ],
      "metadata": {
        "id": "r_oH8XeZhxKt"
      }
    },
    {
      "cell_type": "markdown",
      "source": [
        "4. Дан список коробок, каждая из которых имеет три параметра (длина, высота, ширина), определить есть ли среди них коробка, объем которой больше v."
      ],
      "metadata": {
        "id": "DyhGfT3ciGkj"
      }
    },
    {
      "cell_type": "code",
      "source": [
        "boxes = [[1, 4, 9], [4, 4, 4], [2, 3, 10], [1, 1, 6]]\n",
        "v = 50\n",
        "\n",
        "for box in boxes:\n",
        "  val = 1\n",
        "  for i in box:\n",
        "    val *= i\n",
        "  if val >= v:\n",
        "    print('Найдена подходящая коробка!')\n",
        "    break\n",
        "else:\n",
        "  print('Не получилось найти достаточно большую коробку')"
      ],
      "metadata": {
        "colab": {
          "base_uri": "https://localhost:8080/"
        },
        "id": "QdWdFclWfe9y",
        "outputId": "b85fbe9f-6512-4caf-82ab-938f6fc26596"
      },
      "execution_count": null,
      "outputs": [
        {
          "output_type": "stream",
          "name": "stdout",
          "text": [
            "Найдена подходящая коробка!\n"
          ]
        }
      ]
    },
    {
      "cell_type": "markdown",
      "source": [
        "# list comprehension\n",
        "Это так называемый генератор списков с использованием цикла for."
      ],
      "metadata": {
        "id": "bcsN1JavXHol"
      }
    },
    {
      "cell_type": "markdown",
      "source": [
        "Вот так мы можем получить массив квадратов:"
      ],
      "metadata": {
        "id": "PVeLu-CnYF8z"
      }
    },
    {
      "cell_type": "code",
      "source": [
        "a = [i ** 2 for i in range(10)]\n",
        "print(a)"
      ],
      "metadata": {
        "id": "a8Xs2XMhXvy6",
        "colab": {
          "base_uri": "https://localhost:8080/"
        },
        "outputId": "1413c54f-f6d4-40d2-e3e4-6683dccc731b"
      },
      "execution_count": null,
      "outputs": [
        {
          "output_type": "stream",
          "name": "stdout",
          "text": [
            "[0, 1, 4, 9, 16, 25, 36, 49, 64, 81]\n"
          ]
        }
      ]
    },
    {
      "cell_type": "markdown",
      "source": [
        "Мы также можем комбинировать с циклом if:\n"
      ],
      "metadata": {
        "id": "u6BqsDZYYNNx"
      }
    },
    {
      "cell_type": "code",
      "source": [
        "a = [i ** 2 for i in range(10) if i > 4]\n",
        "print(a)"
      ],
      "metadata": {
        "colab": {
          "base_uri": "https://localhost:8080/"
        },
        "id": "fxgxyF7RYvVG",
        "outputId": "6521c0a8-d86d-4070-fb3e-cbf46e6a5209"
      },
      "execution_count": null,
      "outputs": [
        {
          "output_type": "stream",
          "name": "stdout",
          "text": [
            "[25, 36, 49, 64, 81]\n"
          ]
        }
      ]
    },
    {
      "cell_type": "markdown",
      "source": [
        "Если хотим в условии использовать еще else, то все условие нужно написать до цикла:"
      ],
      "metadata": {
        "id": "lSFF2oW4Y2GY"
      }
    },
    {
      "cell_type": "code",
      "source": [
        "a = [i ** 2 if i % 2 == 0 else i for i in range(10)]\n",
        "print(a)"
      ],
      "metadata": {
        "colab": {
          "base_uri": "https://localhost:8080/"
        },
        "id": "TxV4EuUTYD3n",
        "outputId": "417ae904-77e3-494c-89a0-d40d93757265"
      },
      "execution_count": null,
      "outputs": [
        {
          "output_type": "stream",
          "name": "stdout",
          "text": [
            "[0, 1, 4, 3, 16, 5, 36, 7, 64, 9]\n"
          ]
        }
      ]
    },
    {
      "cell_type": "markdown",
      "source": [
        "# Задачи"
      ],
      "metadata": {
        "id": "bcX0EAuaBrAU"
      }
    },
    {
      "cell_type": "markdown",
      "source": [
        "1. Дан список чисел. Выведите числа кратные 7."
      ],
      "metadata": {
        "id": "F9tsFquoBtOI"
      }
    },
    {
      "cell_type": "code",
      "source": [
        "# Your code."
      ],
      "metadata": {
        "id": "nDDuxe_gBsgx"
      },
      "execution_count": null,
      "outputs": []
    },
    {
      "cell_type": "markdown",
      "source": [
        "2. Дан массив чисел от 0 до 20. Выведите четные числа в порядке убывания. Нельзя использовать функцию reversed и оператор if."
      ],
      "metadata": {
        "id": "fZjOaVdPB-LT"
      }
    },
    {
      "cell_type": "code",
      "source": [
        "# Your code."
      ],
      "metadata": {
        "id": "E_4oc619Cge3"
      },
      "execution_count": null,
      "outputs": []
    },
    {
      "cell_type": "markdown",
      "source": [
        "3. Дан массив, состоящий из чисел 1, 2, 3, которые отвечают за операции:\n",
        "\n",
        "*   1 - прибавить 7 к числу А, если оно делится на 5, иначе - вычесть 13.\n",
        "*   2 - взять остаток от деления числа А на 11, если оно нечетное, иначе - взять целую часть от деления на 6.\n",
        "*   3 - возвести число А в квадрат.\n"
      ],
      "metadata": {
        "id": "0G8Hg8kdC-0j"
      }
    },
    {
      "cell_type": "markdown",
      "source": [
        "Считайте, что исходное число А=5. Выведите результат выполнения всех операций над числом А."
      ],
      "metadata": {
        "id": "it8dxz5nDfHK"
      }
    },
    {
      "cell_type": "code",
      "source": [
        "# Your code."
      ],
      "metadata": {
        "id": "heVyoGm7Deqy"
      },
      "execution_count": null,
      "outputs": []
    }
  ]
}